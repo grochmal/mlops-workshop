{
 "cells": [
  {
   "cell_type": "markdown",
   "metadata": {},
   "source": [
    "# Similarity of cider bottle labels\n",
    "\n",
    "The pipeline we will improve solves the very important question\n",
    "as to how the type of apple used in producing a cider\n",
    "impacts the label on the bottle."
   ]
  },
  {
   "cell_type": "code",
   "execution_count": 1,
   "metadata": {},
   "outputs": [],
   "source": [
    "from dataclasses import dataclass\n",
    "import numpy as np\n",
    "import pandas as pd\n",
    "import matplotlib.pyplot as plt\n",
    "from sklearn.manifold import TSNE\n",
    "from transformers.pipelines import pipeline\n",
    "from transformers.models.auto import AutoTokenizer, AutoModelForCausalLM\n",
    "from sentence_transformers import SentenceTransformer"
   ]
  },
  {
   "cell_type": "markdown",
   "metadata": {},
   "source": [
    "We receive emails from farmers.\n",
    "Emails are quite unstructured but we will try to figure out the\n",
    "type of the apple the farmers use to produce cider."
   ]
  },
  {
   "cell_type": "code",
   "execution_count": 2,
   "metadata": {},
   "outputs": [
    {
     "data": {
      "text/html": [
       "<div>\n",
       "<style scoped>\n",
       "    .dataframe tbody tr th:only-of-type {\n",
       "        vertical-align: middle;\n",
       "    }\n",
       "\n",
       "    .dataframe tbody tr th {\n",
       "        vertical-align: top;\n",
       "    }\n",
       "\n",
       "    .dataframe thead th {\n",
       "        text-align: right;\n",
       "    }\n",
       "</style>\n",
       "<table border=\"1\" class=\"dataframe\">\n",
       "  <thead>\n",
       "    <tr style=\"text-align: right;\">\n",
       "      <th></th>\n",
       "      <th>emails</th>\n",
       "    </tr>\n",
       "  </thead>\n",
       "  <tbody>\n",
       "    <tr>\n",
       "      <th>0</th>\n",
       "      <td>I've got a batch of granny smith, as crisp as ...</td>\n",
       "    </tr>\n",
       "    <tr>\n",
       "      <th>1</th>\n",
       "      <td>The best honeycrisp in tow, fresh from the orc...</td>\n",
       "    </tr>\n",
       "    <tr>\n",
       "      <th>2</th>\n",
       "      <td>Nothing compares to a red delicious, sweet and...</td>\n",
       "    </tr>\n",
       "    <tr>\n",
       "      <th>3</th>\n",
       "      <td>Gala apples are the best for making pies.</td>\n",
       "    </tr>\n",
       "    <tr>\n",
       "      <th>4</th>\n",
       "      <td>Sweet and crisp fuji apples are my favorite.</td>\n",
       "    </tr>\n",
       "  </tbody>\n",
       "</table>\n",
       "</div>"
      ],
      "text/plain": [
       "                                              emails\n",
       "0  I've got a batch of granny smith, as crisp as ...\n",
       "1  The best honeycrisp in tow, fresh from the orc...\n",
       "2  Nothing compares to a red delicious, sweet and...\n",
       "3          Gala apples are the best for making pies.\n",
       "4       Sweet and crisp fuji apples are my favorite."
      ]
     },
     "execution_count": 2,
     "metadata": {},
     "output_type": "execute_result"
    }
   ],
   "source": [
    "emails = [\n",
    "    \"I've got a batch of granny smith, as crisp as they come.\",\n",
    "    \"The best honeycrisp in tow, fresh from the orchard.\",\n",
    "    \"Nothing compares to a red delicious, sweet and juicy.\",\n",
    "    \"Gala apples are the best for making pies.\",\n",
    "    \"Sweet and crisp fuji apples are my favorite.\",\n",
    "    \"Pink lady apples are the best for snacking.\",\n",
    "    \"Fermented apple juice is made from jonagold apples.\",\n",
    "    \"The crisp and tart mcintosh is perfect for baking.\",\n",
    "    \"Never heard of a braeburn apple? They're delicious.\",\n",
    "    \"Ambrosia apples are the sweetest apples around.\",\n",
    "    \"Cortland apples are perfect for making apple sauce.\",\n",
    "    \"Empire apples are a cross between red delicious and mcintosh.\",\n",
    "    \"Baking with crispin apples is a delight.\",\n",
    "    \"From the same family as the fuji, mutsu apples are sweet and crisp.\",\n",
    "    \"Opalescent apples are a rare treat.\",\n",
    "    \"A barrel of rome apples incoming.\",\n",
    "    \"Juice made from suncrisp apples is the clearest.\",\n",
    "    \"Highest content of sugar in winesap apples.\",\n",
    "    \"Arkansas black apples have a long shelf life.\",\n",
    "    \"Baldwin apples are a classic.\",\n",
    "    \"A gravenstein apple a day keeps the doctor away.\",\n",
    "]\n",
    "emails_df = pd.DataFrame({\"emails\": emails})\n",
    "emails_df.to_parquet(\"../data/emails.parquet\")\n",
    "emails = emails_df[\"emails\"].tolist()\n",
    "emails_df.head()"
   ]
  },
  {
   "cell_type": "markdown",
   "metadata": {},
   "source": [
    "Types of apples are many and plenty but we will use NLI for quick\n",
    "zero shot learning for the apple species.\n",
    "Hence we will help the model by listing the possible apple species."
   ]
  },
  {
   "cell_type": "code",
   "execution_count": 3,
   "metadata": {},
   "outputs": [
    {
     "data": {
      "text/html": [
       "<div>\n",
       "<style scoped>\n",
       "    .dataframe tbody tr th:only-of-type {\n",
       "        vertical-align: middle;\n",
       "    }\n",
       "\n",
       "    .dataframe tbody tr th {\n",
       "        vertical-align: top;\n",
       "    }\n",
       "\n",
       "    .dataframe thead th {\n",
       "        text-align: right;\n",
       "    }\n",
       "</style>\n",
       "<table border=\"1\" class=\"dataframe\">\n",
       "  <thead>\n",
       "    <tr style=\"text-align: right;\">\n",
       "      <th></th>\n",
       "      <th>apple_types</th>\n",
       "    </tr>\n",
       "  </thead>\n",
       "  <tbody>\n",
       "    <tr>\n",
       "      <th>0</th>\n",
       "      <td>granny smith</td>\n",
       "    </tr>\n",
       "    <tr>\n",
       "      <th>1</th>\n",
       "      <td>honeycrisp</td>\n",
       "    </tr>\n",
       "    <tr>\n",
       "      <th>2</th>\n",
       "      <td>red delicious</td>\n",
       "    </tr>\n",
       "    <tr>\n",
       "      <th>3</th>\n",
       "      <td>gala</td>\n",
       "    </tr>\n",
       "    <tr>\n",
       "      <th>4</th>\n",
       "      <td>fuji</td>\n",
       "    </tr>\n",
       "  </tbody>\n",
       "</table>\n",
       "</div>"
      ],
      "text/plain": [
       "     apple_types\n",
       "0   granny smith\n",
       "1     honeycrisp\n",
       "2  red delicious\n",
       "3           gala\n",
       "4           fuji"
      ]
     },
     "execution_count": 3,
     "metadata": {},
     "output_type": "execute_result"
    }
   ],
   "source": [
    "apple_types = [\n",
    "    \"granny smith\",\n",
    "    \"honeycrisp\",\n",
    "    \"red delicious\",\n",
    "    \"gala\",\n",
    "    \"fuji\",\n",
    "    \"pink lady\",\n",
    "    \"jonagold\",\n",
    "    \"mcintosh\",\n",
    "    \"braeburn\",\n",
    "    \"ambrosia\",\n",
    "    \"cortland\",\n",
    "    \"empire\",\n",
    "    \"crispin\",\n",
    "    \"mutsu\",\n",
    "    \"opalescent\",\n",
    "    \"rome\",\n",
    "    \"suncrisp\",\n",
    "    \"winesap\",\n",
    "    \"arkansas black\",\n",
    "    \"baldwin\",\n",
    "    \"gravenstein\",\n",
    "]\n",
    "apple_types_df = pd.DataFrame({\"apple_types\": apple_types})\n",
    "apple_types_df.to_parquet(\"../data/apple_types.parquet\")\n",
    "apple_types = apple_types_df[\"apple_types\"].tolist()\n",
    "apple_types_df.head()"
   ]
  },
  {
   "cell_type": "code",
   "execution_count": 4,
   "metadata": {},
   "outputs": [
    {
     "data": {
      "text/plain": [
       "<transformers.pipelines.zero_shot_classification.ZeroShotClassificationPipeline at 0x177b5d250>"
      ]
     },
     "execution_count": 4,
     "metadata": {},
     "output_type": "execute_result"
    }
   ],
   "source": [
    "ZERO_SHOT_TASK = \"zero-shot-classification\"\n",
    "ZERO_SHOT_MODEL = \"facebook/bart-large-mnli\"\n",
    "zero_shot = pipeline(ZERO_SHOT_TASK, model=ZERO_SHOT_MODEL)\n",
    "zero_shot"
   ]
  },
  {
   "cell_type": "code",
   "execution_count": 5,
   "metadata": {},
   "outputs": [
    {
     "data": {
      "text/plain": [
       "(21, 21)"
      ]
     },
     "execution_count": 5,
     "metadata": {},
     "output_type": "execute_result"
    }
   ],
   "source": [
    "infered_emails = zero_shot(emails, candidate_labels=apple_types)\n",
    "len(emails), len(infered_emails)"
   ]
  },
  {
   "cell_type": "code",
   "execution_count": 6,
   "metadata": {},
   "outputs": [
    {
     "data": {
      "text/plain": [
       "21"
      ]
     },
     "execution_count": 6,
     "metadata": {},
     "output_type": "execute_result"
    }
   ],
   "source": [
    "apples_in = [i['labels'][0] for i in infered_emails]\n",
    "len(apples_in)"
   ]
  },
  {
   "cell_type": "code",
   "execution_count": 7,
   "metadata": {},
   "outputs": [
    {
     "data": {
      "text/plain": [
       "GPT2LMHeadModel(\n",
       "  (transformer): GPT2Model(\n",
       "    (wte): Embedding(50257, 1280)\n",
       "    (wpe): Embedding(1024, 1280)\n",
       "    (drop): Dropout(p=0.1, inplace=False)\n",
       "    (h): ModuleList(\n",
       "      (0-35): 36 x GPT2Block(\n",
       "        (ln_1): LayerNorm((1280,), eps=1e-05, elementwise_affine=True)\n",
       "        (attn): GPT2Attention(\n",
       "          (c_attn): Conv1D()\n",
       "          (c_proj): Conv1D()\n",
       "          (attn_dropout): Dropout(p=0.1, inplace=False)\n",
       "          (resid_dropout): Dropout(p=0.1, inplace=False)\n",
       "        )\n",
       "        (ln_2): LayerNorm((1280,), eps=1e-05, elementwise_affine=True)\n",
       "        (mlp): GPT2MLP(\n",
       "          (c_fc): Conv1D()\n",
       "          (c_proj): Conv1D()\n",
       "          (act): NewGELUActivation()\n",
       "          (dropout): Dropout(p=0.1, inplace=False)\n",
       "        )\n",
       "      )\n",
       "    )\n",
       "    (ln_f): LayerNorm((1280,), eps=1e-05, elementwise_affine=True)\n",
       "  )\n",
       "  (lm_head): Linear(in_features=1280, out_features=50257, bias=False)\n",
       ")"
      ]
     },
     "execution_count": 7,
     "metadata": {},
     "output_type": "execute_result"
    }
   ],
   "source": [
    "gpt2_tokenizer = AutoTokenizer.from_pretrained(\"gpt2-large\")\n",
    "gpt2_model = AutoModelForCausalLM.from_pretrained(\"gpt2-large\")\n",
    "gpt2_model"
   ]
  },
  {
   "cell_type": "code",
   "execution_count": 8,
   "metadata": {},
   "outputs": [],
   "source": [
    "@dataclass\n",
    "class CiderLabel:\n",
    "    apple: str\n",
    "    label: str\n",
    "    embedding: np.ndarray | None = None\n",
    "\n",
    "    def __repr__(self) -> str:\n",
    "        return f\"CiderLabel {self.apple}: {self.label}\"\n",
    "    \n",
    "    def __str__(self) -> str:\n",
    "        return self.__repr__()"
   ]
  },
  {
   "cell_type": "code",
   "execution_count": 9,
   "metadata": {},
   "outputs": [
    {
     "data": {
      "text/plain": [
       "21"
      ]
     },
     "execution_count": 9,
     "metadata": {},
     "output_type": "execute_result"
    }
   ],
   "source": [
    "labels = []\n",
    "for apple in apples_in:\n",
    "    prompt = f\"The label on a bottle of cider made out of {apple} apples reads:\"\n",
    "    inputs = gpt2_tokenizer(prompt, return_tensors='pt')\n",
    "    input_length = inputs.input_ids.shape[1]\n",
    "    outputs = gpt2_model.generate(\n",
    "        **inputs,\n",
    "        max_new_tokens=36,\n",
    "        do_sample=True,\n",
    "        temperature=0.6,\n",
    "        top_p=0.7,\n",
    "        top_k=10,\n",
    "        return_dict_in_generate=True,\n",
    "        pad_token_id=gpt2_tokenizer.eos_token_id,\n",
    "    )\n",
    "    token = outputs.sequences[0, input_length:]\n",
    "    output_str = gpt2_tokenizer.decode(token)\n",
    "    labels.append(CiderLabel(apple=apple, label=output_str))\n",
    "len(labels)"
   ]
  },
  {
   "cell_type": "code",
   "execution_count": 10,
   "metadata": {},
   "outputs": [
    {
     "name": "stderr",
     "output_type": "stream",
     "text": [
      "/Users/grochmal/honeycrisp/.venv/lib/python3.12/site-packages/huggingface_hub/file_download.py:1132: FutureWarning: `resume_download` is deprecated and will be removed in version 1.0.0. Downloads always resume when possible. If you want to force a new download, use `force_download=True`.\n",
      "  warnings.warn(\n"
     ]
    },
    {
     "data": {
      "text/plain": [
       "(768,)"
      ]
     },
     "execution_count": 10,
     "metadata": {},
     "output_type": "execute_result"
    }
   ],
   "source": [
    "embedding_model = SentenceTransformer('sentence-transformers/sentence-t5-large')\n",
    "embeddings = embedding_model.encode([cl.label for cl in labels], convert_to_numpy=True)\n",
    "for embedding, cl in zip(embeddings, labels):\n",
    "    cl.embedding = embedding\n",
    "labels[0].embedding.shape"
   ]
  },
  {
   "cell_type": "code",
   "execution_count": 11,
   "metadata": {},
   "outputs": [
    {
     "data": {
      "text/plain": [
       "((21, 768), (21, 2))"
      ]
     },
     "execution_count": 11,
     "metadata": {},
     "output_type": "execute_result"
    }
   ],
   "source": [
    "X = np.vstack([cl.embedding for cl in labels])\n",
    "tsne = TSNE(n_components=2, perplexity=10, max_iter=1024)\n",
    "Y = tsne.fit_transform(X)\n",
    "X.shape, Y.shape"
   ]
  },
  {
   "cell_type": "code",
   "execution_count": 12,
   "metadata": {},
   "outputs": [
    {
     "data": {
      "image/png": "[encoded data removed]",
      "text/plain": [
       "<Figure size 1600x1200 with 1 Axes>"
      ]
     },
     "metadata": {},
     "output_type": "display_data"
    }
   ],
   "source": [
    "fig, ax = plt.subplots(figsize=(16, 12))\n",
    "ax.scatter(Y[:, 0], Y[:, 1], color=\"crimson\", alpha=0.5)\n",
    "for cl, xy in zip(labels, Y):\n",
    "    ax.annotate(cl.apple, xy=xy, textcoords=\"offset points\", xytext=(0, 7), ha=\"center\")\n",
    "ax.set_title(\"Cider Label Embeddings\")\n",
    "ax.axis(\"off\");"
   ]
  }
 ],
 "metadata": {
  "kernelspec": {
   "display_name": ".venv",
   "language": "python",
   "name": "python3"
  },
  "language_info": {
   "codemirror_mode": {
    "name": "ipython",
    "version": 3
   },
   "file_extension": ".py",
   "mimetype": "text/x-python",
   "name": "python",
   "nbconvert_exporter": "python",
   "pygments_lexer": "ipython3",
   "version": "3.12.3"
  }
 },
 "nbformat": 4,
 "nbformat_minor": 2
}
